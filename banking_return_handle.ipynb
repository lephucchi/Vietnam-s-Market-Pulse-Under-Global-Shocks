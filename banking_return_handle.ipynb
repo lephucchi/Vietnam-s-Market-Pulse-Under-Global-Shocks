{
 "cells": [
  {
   "cell_type": "code",
   "execution_count": 1,
   "id": "a64ed8ae",
   "metadata": {},
   "outputs": [],
   "source": [
    "import pandas as pd\n",
    "import numpy as np"
   ]
  },
  {
   "cell_type": "code",
   "execution_count": 5,
   "id": "39a47126",
   "metadata": {},
   "outputs": [],
   "source": [
    "# 1. Đọc dữ liệu giá đóng cửa quý (CSV) và chuẩn hoá tên ticker\n",
    "bank_df = pd.read_csv(\n",
    "    r'C:\\code\\R\\HK3-2025\\doangiuaky\\python crawing data\\bank_stocks_monthly_close.csv',\n",
    "    parse_dates=['Tháng'],\n",
    "    encoding='cp1258'\n",
    ")\n",
    "bank_df = bank_df.set_index('Tháng').sort_index()"
   ]
  },
  {
   "cell_type": "code",
   "execution_count": 7,
   "id": "3f5fbf98",
   "metadata": {},
   "outputs": [],
   "source": [
    "# 2. Đọc dữ liệu số lượng cổ phiếu đang lưu hành (Excel), skip dòng đầu không chứa dữ liệu\n",
    "shares_df = pd.read_excel(\n",
    "    'C:\\code\\R\\HK3-2025\\doangiuaky\\python crawing data\\Shares_outstanding.xlsx',\n",
    "    skiprows=1,  # Bỏ dòng mô tả \"Common Shares - Outstanding - Total\"\n",
    "    header=None,\n",
    "    names=['ticker_full', 'date', 'shares_raw']\n",
    ")"
   ]
  },
  {
   "cell_type": "code",
   "execution_count": 8,
   "id": "b231b4eb",
   "metadata": {},
   "outputs": [],
   "source": [
    "# 3. Chuyển cột 'date' sang datetime (dayfirst=True) và làm sạch cột shares_raw\n",
    "shares_df['date'] = pd.to_datetime(shares_df['date'], dayfirst=True, errors='coerce')\n",
    "shares_df['shares'] = (\n",
    "    shares_df['shares_raw']\n",
    "    .astype(str)\n",
    "    .str.replace(r'[\\,\\.]', '', regex=True)  # loại bỏ mọi dấu ',' và '.'\n",
    "    .astype(float)\n",
    ")"
   ]
  },
  {
   "cell_type": "code",
   "execution_count": 9,
   "id": "770308ed",
   "metadata": {},
   "outputs": [],
   "source": [
    "# 4. Chỉ giữ lại các cột cần thiết: ticker_full, date, shares\n",
    "shares_df = shares_df[['ticker_full', 'date', 'shares']].dropna(subset=['date', 'shares'])\n",
    "shares_df = shares_df.sort_values(['ticker_full', 'date']).reset_index(drop=True)"
   ]
  },
  {
   "cell_type": "code",
   "execution_count": 10,
   "id": "e8529832",
   "metadata": {},
   "outputs": [
    {
     "name": "stdout",
     "output_type": "stream",
     "text": [
      "=== 20 dòng đầu của shares_df ===\n",
      "   ticker_full       date        shares\n",
      "0       ACB.HM 2004-12-31  1.897461e+14\n",
      "1       ACB.HM 2005-12-31  1.897461e+14\n",
      "2       ACB.HM 2006-12-31  1.897441e+14\n",
      "3       ACB.HM 2007-12-31  3.489629e+14\n",
      "4       ACB.HM 2008-12-31  3.981914e+14\n",
      "5       ACB.HM 2009-12-31  4.827468e+13\n",
      "6       ACB.HM 2010-12-31  5.240080e+14\n",
      "7       ACB.HM 2011-12-31  5.240080e+14\n",
      "8       ACB.HM 2012-12-31  5.240080e+14\n",
      "9       ACB.HM 2013-12-31  5.149656e+14\n",
      "10      ACB.HM 2014-12-31  5.008818e+14\n",
      "11      ACB.HM 2015-12-31  5.008601e+14\n",
      "12      ACB.HM 2016-12-31  5.008601e+14\n",
      "13      ACB.HM 2017-12-31  5.008596e+14\n",
      "14      ACB.HM 2018-12-31  5.008618e+14\n",
      "15      ACB.HM 2019-12-31  5.117356e+13\n",
      "16      ACB.HM 2020-12-31  5.136572e+14\n",
      "17      ACB.HM 2021-12-31  5.136572e+14\n",
      "18      ACB.HM 2022-12-31  5.136572e+14\n",
      "19      ACB.HM 2023-12-31  5.136600e+14\n",
      "Đã xuất toàn bộ share_df_full vào 'bank_long_full.xlsx'\n"
     ]
    }
   ],
   "source": [
    "# 5. In 20 dòng đầu của shares_df để kiểm tra\n",
    "print(\"=== 20 dòng đầu của shares_df ===\")\n",
    "print(shares_df.head(20))\n",
    "\n",
    "# Xuất toàn bộ bank_long ra file Excel\n",
    "shares_df.to_excel('share_df_full.xlsx', index=False)\n",
    "print(\"Đã xuất toàn bộ share_df_full vào 'bank_long_full.xlsx'\")\n"
   ]
  },
  {
   "cell_type": "code",
   "execution_count": 12,
   "id": "e00e1a17",
   "metadata": {},
   "outputs": [],
   "source": [
    "# 6. Đưa bảng giá quý về dạng long và tạo cột ticker_full phù hợp\n",
    "hn_tickers = {'NVB', 'BAB'}\n",
    "\n",
    "bank_long = bank_df.reset_index().melt(\n",
    "    id_vars=['Tháng'],\n",
    "    var_name='ticker',\n",
    "    value_name='price'\n",
    ").rename(columns={'Tháng': 'date'})\n",
    "\n",
    "def make_full_ticker(ticker: str) -> str:\n",
    "    return f\"{ticker}.HN\" if ticker in hn_tickers else f\"{ticker}.HM\"\n",
    "\n",
    "bank_long['ticker_full'] = bank_long['ticker'].apply(make_full_ticker)\n",
    "bank_long = bank_long[['date', 'ticker_full', 'price']]\n",
    "bank_long = bank_long.sort_values(['ticker_full', 'date']).reset_index(drop=True)"
   ]
  },
  {
   "cell_type": "code",
   "execution_count": 13,
   "id": "eee0af19",
   "metadata": {},
   "outputs": [
    {
     "name": "stdout",
     "output_type": "stream",
     "text": [
      "\n",
      "=== 20 dòng đầu của bank_long (giá đóng cửa) ===\n",
      "         date ticker_full  price\n",
      "0  2010-01-31      ACB.HM   3.52\n",
      "1  2010-02-28      ACB.HM   3.66\n",
      "2  2010-03-31      ACB.HM   3.58\n",
      "3  2010-04-30      ACB.HM   3.53\n",
      "4  2010-05-31      ACB.HM   3.29\n",
      "5  2010-06-30      ACB.HM   3.19\n",
      "6  2010-07-31      ACB.HM   3.13\n",
      "7  2010-08-31      ACB.HM   2.95\n",
      "8  2010-09-30      ACB.HM   2.98\n",
      "9  2010-10-31      ACB.HM   2.81\n",
      "10 2010-11-30      ACB.HM   2.76\n",
      "11 2010-12-31      ACB.HM   3.21\n",
      "12 2011-01-31      ACB.HM   2.99\n",
      "13 2011-02-28      ACB.HM   2.76\n",
      "14 2011-03-31      ACB.HM   2.82\n",
      "15 2011-04-30      ACB.HM   2.76\n",
      "16 2011-05-31      ACB.HM   2.62\n",
      "17 2011-06-30      ACB.HM   2.65\n",
      "18 2011-07-31      ACB.HM   2.67\n",
      "19 2011-08-31      ACB.HM   2.71\n",
      "Đã xuất toàn bộ bank_long vào 'bank_long_full.xlsx'\n"
     ]
    }
   ],
   "source": [
    "# 7. In 20 dòng đầu của bank_long để kiểm tra\n",
    "print(\"\\n=== 20 dòng đầu của bank_long (giá đóng cửa) ===\")\n",
    "print(bank_long.head(20))\n",
    "\n",
    "# Xuất toàn bộ bank_long ra file Excel\n",
    "bank_long.to_excel('bank_long_full.xlsx', index=False)\n",
    "print(\"Đã xuất toàn bộ bank_long vào 'bank_long_full.xlsx'\")"
   ]
  },
  {
   "cell_type": "code",
   "execution_count": 14,
   "id": "89ddb554",
   "metadata": {},
   "outputs": [],
   "source": [
    "# 8. Merge_asof theo từng ticker_full để lấy shares gần nhất ≤ ngày đó\n",
    "merged_list = []\n",
    "for ticker, grp_bank in bank_long.groupby('ticker_full'):\n",
    "    grp_bank = grp_bank.sort_values('date').reset_index(drop=True)\n",
    "    grp_shares = shares_df[shares_df['ticker_full'] == ticker][['date', 'shares']].sort_values('date').reset_index(drop=True)\n",
    "    if grp_shares.empty:\n",
    "        merged_list.append(grp_bank.assign(shares=pd.NA))\n",
    "    else:\n",
    "        merged_grp = pd.merge_asof(\n",
    "            grp_bank,\n",
    "            grp_shares,\n",
    "            on='date',\n",
    "            direction='backward'\n",
    "        )\n",
    "        merged_grp['ticker_full'] = ticker\n",
    "        merged_list.append(merged_grp)\n",
    "\n",
    "merged = pd.concat(merged_list, ignore_index=True)"
   ]
  },
  {
   "cell_type": "code",
   "execution_count": 15,
   "id": "21a86e23",
   "metadata": {},
   "outputs": [],
   "source": [
    "# 9. Tính market cap = price * shares\n",
    "merged['market_cap'] = merged['price'] * merged['shares']"
   ]
  },
  {
   "cell_type": "code",
   "execution_count": 16,
   "id": "5318ccef",
   "metadata": {},
   "outputs": [],
   "source": [
    "# 10. Pivot thành wide: mỗi hàng là một ngày (quý), cột là ticker_full\n",
    "mcap_wide = merged.pivot_table(\n",
    "    index='date',\n",
    "    columns='ticker_full',\n",
    "    values='market_cap'\n",
    ").sort_index()"
   ]
  },
  {
   "cell_type": "code",
   "execution_count": 17,
   "id": "1a91c9f8",
   "metadata": {},
   "outputs": [],
   "source": [
    "# 11. Tính TotalCap mỗi quý\n",
    "total_mcap = mcap_wide.sum(axis=1, skipna=True)"
   ]
  },
  {
   "cell_type": "code",
   "execution_count": 18,
   "id": "7928aeeb",
   "metadata": {},
   "outputs": [],
   "source": [
    "# 12. Khởi tạo divisor và index với base = 100\n",
    "dates = total_mcap.index.to_list()\n",
    "t0 = dates[0]\n",
    "base_index_value = 100.0\n",
    "total_t0 = total_mcap.loc[t0]\n",
    "\n",
    "divisors = pd.Series(index=dates, dtype='float64')\n",
    "divisors[t0] = total_t0 / base_index_value"
   ]
  },
  {
   "cell_type": "code",
   "execution_count": 19,
   "id": "ccdd688b",
   "metadata": {},
   "outputs": [],
   "source": [
    "# 13. Tính divisor cho các quý sau, điều chỉnh khi có thêm/bớt ticker\n",
    "for i in range(1, len(dates)):\n",
    "    today = dates[i]\n",
    "    yesterday = dates[i - 1]\n",
    "\n",
    "    total_prev = total_mcap.loc[yesterday]\n",
    "    total_curr = total_mcap.loc[today]\n",
    "\n",
    "    prev_active = mcap_wide.loc[yesterday].notna()\n",
    "    curr_active = mcap_wide.loc[today].notna()\n",
    "\n",
    "    added = curr_active & (~prev_active)\n",
    "    removed = (~curr_active) & prev_active\n",
    "\n",
    "    if added.any() or removed.any():\n",
    "        divisors[today] = divisors[yesterday] * (total_curr / total_prev)\n",
    "    else:\n",
    "        divisors[today] = divisors[yesterday]\n"
   ]
  },
  {
   "cell_type": "code",
   "execution_count": 20,
   "id": "b799bfe3",
   "metadata": {},
   "outputs": [],
   "source": [
    "# 14. Tính Bank Index = TotalCap / Divisor\n",
    "bank_index = total_mcap / divisors"
   ]
  },
  {
   "cell_type": "code",
   "execution_count": 21,
   "id": "27a947b4",
   "metadata": {},
   "outputs": [],
   "source": [
    "# 15. Tạo DataFrame kết quả với cột thời gian ở đầu\n",
    "result = pd.DataFrame({\n",
    "    'date': total_mcap.index,\n",
    "    'Total_Market_Cap': total_mcap.values,\n",
    "    'Divisor': divisors.values,\n",
    "    'Bank_Index': bank_index.values\n",
    "})"
   ]
  },
  {
   "cell_type": "code",
   "execution_count": 22,
   "id": "2edcfb73",
   "metadata": {},
   "outputs": [],
   "source": [
    "# 16. Tính log‐return của chỉ số ngân hàng (Bank_return)\n",
    "result['Bank_return'] = np.log(result['Bank_Index'] / result['Bank_Index'].shift(1))"
   ]
  },
  {
   "cell_type": "code",
   "execution_count": null,
   "id": "7bf71579",
   "metadata": {},
   "outputs": [
    {
     "name": "stdout",
     "output_type": "stream",
     "text": [
      "\n",
      "=== 10 dòng đầu của kết quả Bank Index (base=100) ===\n",
      "        date  Total_Market_Cap       Divisor  Bank_Index  Bank_return\n",
      "0 2010-01-31      5.860208e+15  5.860208e+13  100.000000          NaN\n",
      "1 2010-02-28      6.623763e+15  5.860208e+13  113.029488     0.122479\n",
      "2 2010-03-31      6.030124e+15  5.860208e+13  102.899484    -0.093896\n",
      "3 2010-04-30      5.971474e+15  5.860208e+13  101.898671    -0.009774\n",
      "4 2010-05-31      5.663621e+15  5.860208e+13   96.645398    -0.052930\n",
      "5 2010-06-30      5.843799e+15  5.860208e+13   99.719989     0.031318\n",
      "6 2010-07-31      5.502347e+15  5.860208e+13   93.893370    -0.060206\n",
      "7 2010-08-31      5.325888e+15  5.860208e+13   90.882244    -0.032595\n",
      "8 2010-09-30      5.339513e+15  5.875200e+13   90.882244     0.000000\n",
      "9 2010-10-31      5.188472e+15  5.875200e+13   88.311407    -0.028695\n",
      "Đã xuất toàn bộ result vào 'bank_long_full.xlsx'\n"
     ]
    }
   ],
   "source": [
    "print(\"\\n=== 10 dòng đầu của kết quả Bank Index (base=100) ===\")\n",
    "print(result.head(10))\n",
    "\n",
    "# Xuất toàn bộ bank_long ra file Excel\n",
    "result.to_excel('banking_return.xlsx', index=False)\n",
    "print(\"Đã xuất toàn bộ result vào 'banking_return.xlsx'\")\n"
   ]
  },
  {
   "cell_type": "code",
   "execution_count": null,
   "id": "6f02babd",
   "metadata": {},
   "outputs": [],
   "source": []
  },
  {
   "cell_type": "code",
   "execution_count": null,
   "id": "6f9e12f9",
   "metadata": {},
   "outputs": [],
   "source": []
  }
 ],
 "metadata": {
  "kernelspec": {
   "display_name": "my_env",
   "language": "python",
   "name": "python3"
  },
  "language_info": {
   "codemirror_mode": {
    "name": "ipython",
    "version": 3
   },
   "file_extension": ".py",
   "mimetype": "text/x-python",
   "name": "python",
   "nbconvert_exporter": "python",
   "pygments_lexer": "ipython3",
   "version": "3.11.7"
  }
 },
 "nbformat": 4,
 "nbformat_minor": 5
}
